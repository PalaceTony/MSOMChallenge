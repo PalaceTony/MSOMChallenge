{
 "cells": [
  {
   "cell_type": "code",
   "execution_count": 2,
   "metadata": {},
   "outputs": [],
   "source": [
    "import pandas as pd\n",
    "\n",
    "fd1 = pd.read_csv(\"data/processed/feeders_1.csv\")\n",
    "fd1[\"TimeStamp\"] = pd.to_datetime(fd1[\"TimeStamp\"], errors=\"coerce\")\n",
    "fd2 = pd.read_csv(\"data/processed/feeders_2.csv\")"
   ]
  },
  {
   "cell_type": "code",
   "execution_count": 3,
   "metadata": {},
   "outputs": [
    {
     "data": {
      "text/plain": [
       "(TimeStamp          datetime64[ns]\n",
       " Feed Factor PD1           float64\n",
       " Feed Factor PD2           float64\n",
       " Feed Factor PD3           float64\n",
       " Feed Factor PD4           float64\n",
       " Feed Factor PD5           float64\n",
       " Feed Factor PD7           float64\n",
       " Screw RPM PD1             float64\n",
       " Screw RPM PD2             float64\n",
       " Screw RPM PD3             float64\n",
       " Screw RPM PD4             float64\n",
       " Screw RPM PD5             float64\n",
       " Screw RPM PD7             float64\n",
       " VolMode PD1               float64\n",
       " VolMode PD2               float64\n",
       " VolMode PD3                 int64\n",
       " VolMode PD4               float64\n",
       " VolMode PD5                 int64\n",
       " VolMode PD7                 int64\n",
       " Massflow PD 1             float64\n",
       " Massflow PD 2             float64\n",
       " Massflow PD 3             float64\n",
       " Massflow PD 4             float64\n",
       " Massflow PD 5             float64\n",
       " Massflow PD 7             float64\n",
       " %  PD1                    float64\n",
       " %  PD2                    float64\n",
       " %  PD3                    float64\n",
       " dtype: object,\n",
       " %  PD4                      float64\n",
       " %  PD5                      float64\n",
       " %  PD7                      float64\n",
       " Estimated weight IBC PS1    float64\n",
       " Estimated weight IBC PS2    float64\n",
       " Estimated weight IBC PS3    float64\n",
       " Estimated weight IBC PS4    float64\n",
       " Estimated weight IBC PS5    float64\n",
       " Estimated weight IBC PS7    float64\n",
       " RefAct PD1                  float64\n",
       " RefAct PD2                  float64\n",
       " RefAct PD3                  float64\n",
       " RefAct PD4                  float64\n",
       " RefAct PD5                    int64\n",
       " RefAct PD7                    int64\n",
       " Net Weight PD1              float64\n",
       " Net Weight PD2              float64\n",
       " Net Weight PD3              float64\n",
       " Net Weight PD4              float64\n",
       " Net Weight PD5              float64\n",
       " Net Weight PD7              float64\n",
       " Totalizer PD1               float64\n",
       " Totalizer PD2               float64\n",
       " Totalizer PD3               float64\n",
       " Totalizer PD4               float64\n",
       " Totalizer PD5               float64\n",
       " Totalizer PD7               float64\n",
       " dtype: object)"
      ]
     },
     "execution_count": 3,
     "metadata": {},
     "output_type": "execute_result"
    }
   ],
   "source": [
    "fd1.dtypes, fd2.dtypes"
   ]
  },
  {
   "cell_type": "code",
   "execution_count": 4,
   "metadata": {},
   "outputs": [
    {
     "data": {
      "text/html": [
       "<div>\n",
       "<style scoped>\n",
       "    .dataframe tbody tr th:only-of-type {\n",
       "        vertical-align: middle;\n",
       "    }\n",
       "\n",
       "    .dataframe tbody tr th {\n",
       "        vertical-align: top;\n",
       "    }\n",
       "\n",
       "    .dataframe thead th {\n",
       "        text-align: right;\n",
       "    }\n",
       "</style>\n",
       "<table border=\"1\" class=\"dataframe\">\n",
       "  <thead>\n",
       "    <tr style=\"text-align: right;\">\n",
       "      <th></th>\n",
       "      <th>TimeStamp</th>\n",
       "      <th>VolMode PD1</th>\n",
       "      <th>VolMode PD2</th>\n",
       "      <th>VolMode PD3</th>\n",
       "      <th>VolMode PD4</th>\n",
       "      <th>VolMode PD5</th>\n",
       "      <th>VolMode PD7</th>\n",
       "      <th>RefAct PD1</th>\n",
       "      <th>RefAct PD2</th>\n",
       "      <th>RefAct PD3</th>\n",
       "      <th>RefAct PD4</th>\n",
       "      <th>RefAct PD5</th>\n",
       "      <th>RefAct PD7</th>\n",
       "    </tr>\n",
       "  </thead>\n",
       "  <tbody>\n",
       "    <tr>\n",
       "      <th>0</th>\n",
       "      <td>2018-01-12 08:43:00</td>\n",
       "      <td>1.0</td>\n",
       "      <td>1.0</td>\n",
       "      <td>1</td>\n",
       "      <td>1.0</td>\n",
       "      <td>1</td>\n",
       "      <td>1</td>\n",
       "      <td>0.0</td>\n",
       "      <td>0.0</td>\n",
       "      <td>0.0</td>\n",
       "      <td>0.0</td>\n",
       "      <td>0</td>\n",
       "      <td>0</td>\n",
       "    </tr>\n",
       "    <tr>\n",
       "      <th>1</th>\n",
       "      <td>2018-01-12 08:43:00</td>\n",
       "      <td>1.0</td>\n",
       "      <td>1.0</td>\n",
       "      <td>1</td>\n",
       "      <td>1.0</td>\n",
       "      <td>1</td>\n",
       "      <td>1</td>\n",
       "      <td>0.0</td>\n",
       "      <td>0.0</td>\n",
       "      <td>0.0</td>\n",
       "      <td>0.0</td>\n",
       "      <td>0</td>\n",
       "      <td>0</td>\n",
       "    </tr>\n",
       "    <tr>\n",
       "      <th>2</th>\n",
       "      <td>2018-01-12 08:43:00</td>\n",
       "      <td>1.0</td>\n",
       "      <td>1.0</td>\n",
       "      <td>1</td>\n",
       "      <td>1.0</td>\n",
       "      <td>1</td>\n",
       "      <td>1</td>\n",
       "      <td>0.0</td>\n",
       "      <td>0.0</td>\n",
       "      <td>0.0</td>\n",
       "      <td>0.0</td>\n",
       "      <td>0</td>\n",
       "      <td>0</td>\n",
       "    </tr>\n",
       "    <tr>\n",
       "      <th>3</th>\n",
       "      <td>2018-01-12 08:43:00</td>\n",
       "      <td>1.0</td>\n",
       "      <td>1.0</td>\n",
       "      <td>1</td>\n",
       "      <td>1.0</td>\n",
       "      <td>1</td>\n",
       "      <td>1</td>\n",
       "      <td>0.0</td>\n",
       "      <td>0.0</td>\n",
       "      <td>0.0</td>\n",
       "      <td>0.0</td>\n",
       "      <td>0</td>\n",
       "      <td>0</td>\n",
       "    </tr>\n",
       "    <tr>\n",
       "      <th>4</th>\n",
       "      <td>2018-01-12 08:43:00</td>\n",
       "      <td>1.0</td>\n",
       "      <td>1.0</td>\n",
       "      <td>1</td>\n",
       "      <td>1.0</td>\n",
       "      <td>1</td>\n",
       "      <td>1</td>\n",
       "      <td>0.0</td>\n",
       "      <td>0.0</td>\n",
       "      <td>0.0</td>\n",
       "      <td>0.0</td>\n",
       "      <td>0</td>\n",
       "      <td>0</td>\n",
       "    </tr>\n",
       "    <tr>\n",
       "      <th>...</th>\n",
       "      <td>...</td>\n",
       "      <td>...</td>\n",
       "      <td>...</td>\n",
       "      <td>...</td>\n",
       "      <td>...</td>\n",
       "      <td>...</td>\n",
       "      <td>...</td>\n",
       "      <td>...</td>\n",
       "      <td>...</td>\n",
       "      <td>...</td>\n",
       "      <td>...</td>\n",
       "      <td>...</td>\n",
       "      <td>...</td>\n",
       "    </tr>\n",
       "    <tr>\n",
       "      <th>439839</th>\n",
       "      <td>2018-01-17 11:01:00</td>\n",
       "      <td>0.0</td>\n",
       "      <td>0.0</td>\n",
       "      <td>0</td>\n",
       "      <td>0.0</td>\n",
       "      <td>0</td>\n",
       "      <td>0</td>\n",
       "      <td>0.0</td>\n",
       "      <td>0.0</td>\n",
       "      <td>0.0</td>\n",
       "      <td>0.0</td>\n",
       "      <td>0</td>\n",
       "      <td>0</td>\n",
       "    </tr>\n",
       "    <tr>\n",
       "      <th>439840</th>\n",
       "      <td>2018-01-17 11:01:00</td>\n",
       "      <td>0.0</td>\n",
       "      <td>0.0</td>\n",
       "      <td>0</td>\n",
       "      <td>0.0</td>\n",
       "      <td>0</td>\n",
       "      <td>0</td>\n",
       "      <td>0.0</td>\n",
       "      <td>0.0</td>\n",
       "      <td>0.0</td>\n",
       "      <td>0.0</td>\n",
       "      <td>0</td>\n",
       "      <td>0</td>\n",
       "    </tr>\n",
       "    <tr>\n",
       "      <th>439841</th>\n",
       "      <td>2018-01-17 11:01:00</td>\n",
       "      <td>0.0</td>\n",
       "      <td>0.0</td>\n",
       "      <td>0</td>\n",
       "      <td>0.0</td>\n",
       "      <td>0</td>\n",
       "      <td>0</td>\n",
       "      <td>0.0</td>\n",
       "      <td>0.0</td>\n",
       "      <td>0.0</td>\n",
       "      <td>0.0</td>\n",
       "      <td>0</td>\n",
       "      <td>0</td>\n",
       "    </tr>\n",
       "    <tr>\n",
       "      <th>439842</th>\n",
       "      <td>2018-01-17 11:01:00</td>\n",
       "      <td>0.0</td>\n",
       "      <td>0.0</td>\n",
       "      <td>0</td>\n",
       "      <td>0.0</td>\n",
       "      <td>0</td>\n",
       "      <td>0</td>\n",
       "      <td>0.0</td>\n",
       "      <td>0.0</td>\n",
       "      <td>0.0</td>\n",
       "      <td>0.0</td>\n",
       "      <td>0</td>\n",
       "      <td>0</td>\n",
       "    </tr>\n",
       "    <tr>\n",
       "      <th>439843</th>\n",
       "      <td>2018-01-17 11:01:00</td>\n",
       "      <td>1.0</td>\n",
       "      <td>1.0</td>\n",
       "      <td>1</td>\n",
       "      <td>1.0</td>\n",
       "      <td>1</td>\n",
       "      <td>1</td>\n",
       "      <td>0.0</td>\n",
       "      <td>0.0</td>\n",
       "      <td>0.0</td>\n",
       "      <td>0.0</td>\n",
       "      <td>0</td>\n",
       "      <td>0</td>\n",
       "    </tr>\n",
       "  </tbody>\n",
       "</table>\n",
       "<p>439844 rows × 13 columns</p>\n",
       "</div>"
      ],
      "text/plain": [
       "                 TimeStamp  VolMode PD1  VolMode PD2  VolMode PD3  \\\n",
       "0      2018-01-12 08:43:00          1.0          1.0            1   \n",
       "1      2018-01-12 08:43:00          1.0          1.0            1   \n",
       "2      2018-01-12 08:43:00          1.0          1.0            1   \n",
       "3      2018-01-12 08:43:00          1.0          1.0            1   \n",
       "4      2018-01-12 08:43:00          1.0          1.0            1   \n",
       "...                    ...          ...          ...          ...   \n",
       "439839 2018-01-17 11:01:00          0.0          0.0            0   \n",
       "439840 2018-01-17 11:01:00          0.0          0.0            0   \n",
       "439841 2018-01-17 11:01:00          0.0          0.0            0   \n",
       "439842 2018-01-17 11:01:00          0.0          0.0            0   \n",
       "439843 2018-01-17 11:01:00          1.0          1.0            1   \n",
       "\n",
       "        VolMode PD4  VolMode PD5  VolMode PD7  RefAct PD1  RefAct PD2  \\\n",
       "0               1.0            1            1         0.0         0.0   \n",
       "1               1.0            1            1         0.0         0.0   \n",
       "2               1.0            1            1         0.0         0.0   \n",
       "3               1.0            1            1         0.0         0.0   \n",
       "4               1.0            1            1         0.0         0.0   \n",
       "...             ...          ...          ...         ...         ...   \n",
       "439839          0.0            0            0         0.0         0.0   \n",
       "439840          0.0            0            0         0.0         0.0   \n",
       "439841          0.0            0            0         0.0         0.0   \n",
       "439842          0.0            0            0         0.0         0.0   \n",
       "439843          1.0            1            1         0.0         0.0   \n",
       "\n",
       "        RefAct PD3  RefAct PD4  RefAct PD5  RefAct PD7  \n",
       "0              0.0         0.0           0           0  \n",
       "1              0.0         0.0           0           0  \n",
       "2              0.0         0.0           0           0  \n",
       "3              0.0         0.0           0           0  \n",
       "4              0.0         0.0           0           0  \n",
       "...            ...         ...         ...         ...  \n",
       "439839         0.0         0.0           0           0  \n",
       "439840         0.0         0.0           0           0  \n",
       "439841         0.0         0.0           0           0  \n",
       "439842         0.0         0.0           0           0  \n",
       "439843         0.0         0.0           0           0  \n",
       "\n",
       "[439844 rows x 13 columns]"
      ]
     },
     "execution_count": 4,
     "metadata": {},
     "output_type": "execute_result"
    }
   ],
   "source": [
    "fd1_selected = fd1[\n",
    "    [\n",
    "        \"TimeStamp\",\n",
    "        \"VolMode PD1\",\n",
    "        \"VolMode PD2\",\n",
    "        \"VolMode PD3\",\n",
    "        \"VolMode PD4\",\n",
    "        \"VolMode PD5\",\n",
    "        \"VolMode PD7\",\n",
    "    ]\n",
    "]\n",
    "fd2_selected = fd2[\n",
    "    [\"RefAct PD1\", \"RefAct PD2\", \"RefAct PD3\", \"RefAct PD4\", \"RefAct PD5\", \"RefAct PD7\"]\n",
    "]\n",
    "\n",
    "# Step 2: Joining the DataFrames based on TimeStamp\n",
    "merged_data = pd.concat([fd1_selected, fd2_selected], axis=1)\n",
    "merged_data"
   ]
  },
  {
   "cell_type": "code",
   "execution_count": 5,
   "metadata": {},
   "outputs": [
    {
     "data": {
      "text/plain": [
       "TimeStamp      datetime64[ns]\n",
       "VolMode PD1           float64\n",
       "VolMode PD2           float64\n",
       "VolMode PD3             int64\n",
       "VolMode PD4           float64\n",
       "VolMode PD5             int64\n",
       "VolMode PD7             int64\n",
       "RefAct PD1            float64\n",
       "RefAct PD2            float64\n",
       "RefAct PD3            float64\n",
       "RefAct PD4            float64\n",
       "RefAct PD5              int64\n",
       "RefAct PD7              int64\n",
       "dtype: object"
      ]
     },
     "execution_count": 5,
     "metadata": {},
     "output_type": "execute_result"
    }
   ],
   "source": [
    "merged_data.dtypes"
   ]
  },
  {
   "cell_type": "code",
   "execution_count": 6,
   "metadata": {},
   "outputs": [],
   "source": [
    "# merged_data.to_csv(\"data/processed/merged_data.csv\", index=False)"
   ]
  },
  {
   "cell_type": "code",
   "execution_count": 7,
   "metadata": {},
   "outputs": [
    {
     "data": {
      "text/plain": [
       "VolMode PD1\n",
       "0.00     344300\n",
       "1.00      41549\n",
       "15.95     32397\n",
       "14.50     21598\n",
       "Name: count, dtype: int64"
      ]
     },
     "execution_count": 7,
     "metadata": {},
     "output_type": "execute_result"
    }
   ],
   "source": [
    "unique_values = pd.Series(merged_data[\"VolMode PD1\"])\n",
    "value_counts = unique_values.value_counts()\n",
    "value_counts"
   ]
  },
  {
   "cell_type": "code",
   "execution_count": 8,
   "metadata": {},
   "outputs": [
    {
     "data": {
      "text/plain": [
       "VolMode PD2\n",
       "0.000     343389\n",
       "1.000      42460\n",
       "15.675     32397\n",
       "14.250     21598\n",
       "Name: count, dtype: int64"
      ]
     },
     "execution_count": 8,
     "metadata": {},
     "output_type": "execute_result"
    }
   ],
   "source": [
    "unique_values = pd.Series(merged_data[\"VolMode PD2\"])\n",
    "value_counts = unique_values.value_counts()\n",
    "value_counts"
   ]
  },
  {
   "cell_type": "code",
   "execution_count": 9,
   "metadata": {},
   "outputs": [
    {
     "data": {
      "text/plain": [
       "VolMode PD3\n",
       "0    381152\n",
       "1     58692\n",
       "Name: count, dtype: int64"
      ]
     },
     "execution_count": 9,
     "metadata": {},
     "output_type": "execute_result"
    }
   ],
   "source": [
    "unique_values = pd.Series(merged_data[\"VolMode PD3\"])\n",
    "value_counts = unique_values.value_counts()\n",
    "value_counts"
   ]
  },
  {
   "cell_type": "code",
   "execution_count": 10,
   "metadata": {},
   "outputs": [
    {
     "data": {
      "text/plain": [
       "VolMode PD4\n",
       "0.0    340898\n",
       "0.3     53995\n",
       "1.0     44951\n",
       "Name: count, dtype: int64"
      ]
     },
     "execution_count": 10,
     "metadata": {},
     "output_type": "execute_result"
    }
   ],
   "source": [
    "unique_values = pd.Series(merged_data[\"VolMode PD4\"])\n",
    "value_counts = unique_values.value_counts()\n",
    "value_counts"
   ]
  },
  {
   "cell_type": "code",
   "execution_count": 11,
   "metadata": {},
   "outputs": [
    {
     "data": {
      "text/plain": [
       "VolMode PD5\n",
       "0    402321\n",
       "1     37523\n",
       "Name: count, dtype: int64"
      ]
     },
     "execution_count": 11,
     "metadata": {},
     "output_type": "execute_result"
    }
   ],
   "source": [
    "unique_values = pd.Series(merged_data[\"VolMode PD5\"])\n",
    "value_counts = unique_values.value_counts()\n",
    "value_counts"
   ]
  },
  {
   "cell_type": "code",
   "execution_count": 12,
   "metadata": {},
   "outputs": [
    {
     "data": {
      "text/plain": [
       "VolMode PD7\n",
       "0    402321\n",
       "1     37523\n",
       "Name: count, dtype: int64"
      ]
     },
     "execution_count": 12,
     "metadata": {},
     "output_type": "execute_result"
    }
   ],
   "source": [
    "unique_values = pd.Series(merged_data[\"VolMode PD7\"])\n",
    "value_counts = unique_values.value_counts()\n",
    "value_counts"
   ]
  },
  {
   "cell_type": "code",
   "execution_count": 13,
   "metadata": {},
   "outputs": [
    {
     "data": {
      "text/plain": [
       "(VolMode PD1\n",
       " 0.00     344300\n",
       " 1.00      41549\n",
       " 15.95     32397\n",
       " 14.50     21598\n",
       " Name: count, dtype: int64,\n",
       " VolMode PD2\n",
       " 0.000     343389\n",
       " 1.000      42460\n",
       " 15.675     32397\n",
       " 14.250     21598\n",
       " Name: count, dtype: int64,\n",
       " VolMode PD3\n",
       " 0    381152\n",
       " 1     58692\n",
       " Name: count, dtype: int64,\n",
       " VolMode PD4\n",
       " 0.0    340898\n",
       " 0.3     53995\n",
       " 1.0     44951\n",
       " Name: count, dtype: int64,\n",
       " VolMode PD5\n",
       " 0    402321\n",
       " 1     37523\n",
       " Name: count, dtype: int64,\n",
       " VolMode PD7\n",
       " 0    402321\n",
       " 1     37523\n",
       " Name: count, dtype: int64)"
      ]
     },
     "execution_count": 13,
     "metadata": {},
     "output_type": "execute_result"
    }
   ],
   "source": [
    "unique_values_vol_pd1 = pd.Series(merged_data[\"VolMode PD1\"]).value_counts()\n",
    "unique_values_vol_pd2 = pd.Series(merged_data[\"VolMode PD2\"]).value_counts()\n",
    "unique_values_vol_pd3 = pd.Series(merged_data[\"VolMode PD3\"]).value_counts()\n",
    "unique_values_vol_pd4 = pd.Series(merged_data[\"VolMode PD4\"]).value_counts()\n",
    "unique_values_vol_pd5 = pd.Series(merged_data[\"VolMode PD5\"]).value_counts()\n",
    "unique_values_vol_pd7 = pd.Series(merged_data[\"VolMode PD7\"]).value_counts()\n",
    "unique_values_vol_pd1, unique_values_vol_pd2, unique_values_vol_pd3, unique_values_vol_pd4, unique_values_vol_pd5, unique_values_vol_pd7"
   ]
  },
  {
   "cell_type": "code",
   "execution_count": 14,
   "metadata": {},
   "outputs": [
    {
     "data": {
      "text/plain": [
       "(RefAct PD1\n",
       " 0.000     378730\n",
       " 15.675     32397\n",
       " 14.250     21598\n",
       " 1.000       7119\n",
       " Name: count, dtype: int64,\n",
       " RefAct PD2\n",
       " 0.0    378598\n",
       " 5.5     32397\n",
       " 5.0     21598\n",
       " 1.0      7251\n",
       " Name: count, dtype: int64,\n",
       " RefAct PD3\n",
       " 0.00    378172\n",
       " 1.65     32397\n",
       " 1.50     21598\n",
       " 1.00      7677\n",
       " Name: count, dtype: int64,\n",
       " RefAct PD4\n",
       " 0.00    376341\n",
       " 0.55     32397\n",
       " 0.50     21598\n",
       " 1.00      9508\n",
       " Name: count, dtype: int64,\n",
       " RefAct PD5\n",
       " 0    437983\n",
       " 1      1861\n",
       " Name: count, dtype: int64,\n",
       " RefAct PD7\n",
       " 0    438177\n",
       " 1      1667\n",
       " Name: count, dtype: int64)"
      ]
     },
     "execution_count": 14,
     "metadata": {},
     "output_type": "execute_result"
    }
   ],
   "source": [
    "unique_values_ref_pd1 = pd.Series(merged_data[\"RefAct PD1\"]).value_counts()\n",
    "unique_values_ref_pd2 = pd.Series(merged_data[\"RefAct PD2\"]).value_counts()\n",
    "unique_values_ref_pd3 = pd.Series(merged_data[\"RefAct PD3\"]).value_counts()\n",
    "unique_values_ref_pd4 = pd.Series(merged_data[\"RefAct PD4\"]).value_counts()\n",
    "unique_values_ref_pd5 = pd.Series(merged_data[\"RefAct PD5\"]).value_counts()\n",
    "unique_values_ref_pd7 = pd.Series(merged_data[\"RefAct PD7\"]).value_counts()\n",
    "unique_values_ref_pd1, unique_values_ref_pd2, unique_values_ref_pd3, unique_values_ref_pd4, unique_values_ref_pd5, unique_values_ref_pd7"
   ]
  },
  {
   "cell_type": "code",
   "execution_count": 28,
   "metadata": {},
   "outputs": [
    {
     "data": {
      "text/plain": [
       "RefAct PD1\n",
       "0.000     378730\n",
       "15.675     32397\n",
       "14.250     21598\n",
       "1.000       7119\n",
       "Name: count, dtype: int64"
      ]
     },
     "execution_count": 28,
     "metadata": {},
     "output_type": "execute_result"
    }
   ],
   "source": [
    "unique_values = pd.Series(merged_data[\"RefAct PD1\"])\n",
    "value_counts = unique_values.value_counts()\n",
    "value_counts"
   ]
  },
  {
   "cell_type": "code",
   "execution_count": 29,
   "metadata": {},
   "outputs": [
    {
     "data": {
      "text/plain": [
       "RefAct PD2\n",
       "0.0    378598\n",
       "5.5     32397\n",
       "5.0     21598\n",
       "1.0      7251\n",
       "Name: count, dtype: int64"
      ]
     },
     "execution_count": 29,
     "metadata": {},
     "output_type": "execute_result"
    }
   ],
   "source": [
    "unique_values = pd.Series(merged_data[\"RefAct PD2\"])\n",
    "value_counts = unique_values.value_counts()\n",
    "value_counts"
   ]
  },
  {
   "cell_type": "code",
   "execution_count": 30,
   "metadata": {},
   "outputs": [
    {
     "data": {
      "text/plain": [
       "RefAct PD3\n",
       "0.00    378172\n",
       "1.65     32397\n",
       "1.50     21598\n",
       "1.00      7677\n",
       "Name: count, dtype: int64"
      ]
     },
     "execution_count": 30,
     "metadata": {},
     "output_type": "execute_result"
    }
   ],
   "source": [
    "unique_values = pd.Series(merged_data[\"RefAct PD3\"])\n",
    "value_counts = unique_values.value_counts()\n",
    "value_counts"
   ]
  },
  {
   "cell_type": "code",
   "execution_count": 31,
   "metadata": {},
   "outputs": [
    {
     "data": {
      "text/plain": [
       "RefAct PD5\n",
       "0    437983\n",
       "1      1861\n",
       "Name: count, dtype: int64"
      ]
     },
     "execution_count": 31,
     "metadata": {},
     "output_type": "execute_result"
    }
   ],
   "source": [
    "unique_values = pd.Series(merged_data[\"RefAct PD5\"])\n",
    "value_counts = unique_values.value_counts()\n",
    "value_counts"
   ]
  },
  {
   "cell_type": "code",
   "execution_count": 32,
   "metadata": {},
   "outputs": [
    {
     "data": {
      "text/plain": [
       "RefAct PD7\n",
       "0    438177\n",
       "1      1667\n",
       "Name: count, dtype: int64"
      ]
     },
     "execution_count": 32,
     "metadata": {},
     "output_type": "execute_result"
    }
   ],
   "source": [
    "unique_values = pd.Series(merged_data[\"RefAct PD7\"])\n",
    "value_counts = unique_values.value_counts()\n",
    "value_counts"
   ]
  },
  {
   "cell_type": "code",
   "execution_count": 33,
   "metadata": {},
   "outputs": [
    {
     "data": {
      "text/html": [
       "<div>\n",
       "<style scoped>\n",
       "    .dataframe tbody tr th:only-of-type {\n",
       "        vertical-align: middle;\n",
       "    }\n",
       "\n",
       "    .dataframe tbody tr th {\n",
       "        vertical-align: top;\n",
       "    }\n",
       "\n",
       "    .dataframe thead th {\n",
       "        text-align: right;\n",
       "    }\n",
       "</style>\n",
       "<table border=\"1\" class=\"dataframe\">\n",
       "  <thead>\n",
       "    <tr style=\"text-align: right;\">\n",
       "      <th></th>\n",
       "      <th>TimeStamp</th>\n",
       "      <th>VolMode PD1</th>\n",
       "      <th>VolMode PD2</th>\n",
       "      <th>VolMode PD3</th>\n",
       "      <th>VolMode PD4</th>\n",
       "      <th>VolMode PD5</th>\n",
       "      <th>VolMode PD7</th>\n",
       "      <th>RefAct PD1</th>\n",
       "      <th>RefAct PD2</th>\n",
       "      <th>RefAct PD3</th>\n",
       "      <th>RefAct PD4</th>\n",
       "      <th>RefAct PD5</th>\n",
       "      <th>RefAct PD7</th>\n",
       "    </tr>\n",
       "  </thead>\n",
       "  <tbody>\n",
       "    <tr>\n",
       "      <th>299390</th>\n",
       "      <td>2018-01-15 20:00:00</td>\n",
       "      <td>14.5</td>\n",
       "      <td>14.25</td>\n",
       "      <td>0</td>\n",
       "      <td>0.3</td>\n",
       "      <td>0</td>\n",
       "      <td>0</td>\n",
       "      <td>14.25</td>\n",
       "      <td>5.0</td>\n",
       "      <td>1.5</td>\n",
       "      <td>0.5</td>\n",
       "      <td>0</td>\n",
       "      <td>0</td>\n",
       "    </tr>\n",
       "    <tr>\n",
       "      <th>299391</th>\n",
       "      <td>2018-01-15 20:00:00</td>\n",
       "      <td>14.5</td>\n",
       "      <td>14.25</td>\n",
       "      <td>0</td>\n",
       "      <td>0.3</td>\n",
       "      <td>0</td>\n",
       "      <td>0</td>\n",
       "      <td>14.25</td>\n",
       "      <td>5.0</td>\n",
       "      <td>1.5</td>\n",
       "      <td>0.5</td>\n",
       "      <td>0</td>\n",
       "      <td>0</td>\n",
       "    </tr>\n",
       "    <tr>\n",
       "      <th>299392</th>\n",
       "      <td>2018-01-15 20:00:00</td>\n",
       "      <td>14.5</td>\n",
       "      <td>14.25</td>\n",
       "      <td>0</td>\n",
       "      <td>0.3</td>\n",
       "      <td>0</td>\n",
       "      <td>0</td>\n",
       "      <td>14.25</td>\n",
       "      <td>5.0</td>\n",
       "      <td>1.5</td>\n",
       "      <td>0.5</td>\n",
       "      <td>0</td>\n",
       "      <td>0</td>\n",
       "    </tr>\n",
       "    <tr>\n",
       "      <th>299393</th>\n",
       "      <td>2018-01-15 20:00:00</td>\n",
       "      <td>14.5</td>\n",
       "      <td>14.25</td>\n",
       "      <td>0</td>\n",
       "      <td>0.3</td>\n",
       "      <td>0</td>\n",
       "      <td>0</td>\n",
       "      <td>14.25</td>\n",
       "      <td>5.0</td>\n",
       "      <td>1.5</td>\n",
       "      <td>0.5</td>\n",
       "      <td>0</td>\n",
       "      <td>0</td>\n",
       "    </tr>\n",
       "    <tr>\n",
       "      <th>299394</th>\n",
       "      <td>2018-01-15 20:00:00</td>\n",
       "      <td>14.5</td>\n",
       "      <td>14.25</td>\n",
       "      <td>0</td>\n",
       "      <td>0.3</td>\n",
       "      <td>0</td>\n",
       "      <td>0</td>\n",
       "      <td>14.25</td>\n",
       "      <td>5.0</td>\n",
       "      <td>1.5</td>\n",
       "      <td>0.5</td>\n",
       "      <td>0</td>\n",
       "      <td>0</td>\n",
       "    </tr>\n",
       "    <tr>\n",
       "      <th>...</th>\n",
       "      <td>...</td>\n",
       "      <td>...</td>\n",
       "      <td>...</td>\n",
       "      <td>...</td>\n",
       "      <td>...</td>\n",
       "      <td>...</td>\n",
       "      <td>...</td>\n",
       "      <td>...</td>\n",
       "      <td>...</td>\n",
       "      <td>...</td>\n",
       "      <td>...</td>\n",
       "      <td>...</td>\n",
       "      <td>...</td>\n",
       "    </tr>\n",
       "    <tr>\n",
       "      <th>331781</th>\n",
       "      <td>2018-01-16 04:59:00</td>\n",
       "      <td>14.5</td>\n",
       "      <td>14.25</td>\n",
       "      <td>0</td>\n",
       "      <td>0.3</td>\n",
       "      <td>0</td>\n",
       "      <td>0</td>\n",
       "      <td>14.25</td>\n",
       "      <td>5.0</td>\n",
       "      <td>1.5</td>\n",
       "      <td>0.5</td>\n",
       "      <td>0</td>\n",
       "      <td>0</td>\n",
       "    </tr>\n",
       "    <tr>\n",
       "      <th>331782</th>\n",
       "      <td>2018-01-16 04:59:00</td>\n",
       "      <td>14.5</td>\n",
       "      <td>14.25</td>\n",
       "      <td>0</td>\n",
       "      <td>0.3</td>\n",
       "      <td>0</td>\n",
       "      <td>0</td>\n",
       "      <td>14.25</td>\n",
       "      <td>5.0</td>\n",
       "      <td>1.5</td>\n",
       "      <td>0.5</td>\n",
       "      <td>0</td>\n",
       "      <td>0</td>\n",
       "    </tr>\n",
       "    <tr>\n",
       "      <th>331783</th>\n",
       "      <td>2018-01-16 04:59:00</td>\n",
       "      <td>14.5</td>\n",
       "      <td>14.25</td>\n",
       "      <td>0</td>\n",
       "      <td>0.3</td>\n",
       "      <td>0</td>\n",
       "      <td>0</td>\n",
       "      <td>14.25</td>\n",
       "      <td>5.0</td>\n",
       "      <td>1.5</td>\n",
       "      <td>0.5</td>\n",
       "      <td>0</td>\n",
       "      <td>0</td>\n",
       "    </tr>\n",
       "    <tr>\n",
       "      <th>331784</th>\n",
       "      <td>2018-01-16 04:59:00</td>\n",
       "      <td>14.5</td>\n",
       "      <td>14.25</td>\n",
       "      <td>0</td>\n",
       "      <td>0.3</td>\n",
       "      <td>0</td>\n",
       "      <td>0</td>\n",
       "      <td>14.25</td>\n",
       "      <td>5.0</td>\n",
       "      <td>1.5</td>\n",
       "      <td>0.5</td>\n",
       "      <td>0</td>\n",
       "      <td>0</td>\n",
       "    </tr>\n",
       "    <tr>\n",
       "      <th>331785</th>\n",
       "      <td>2018-01-16 04:59:00</td>\n",
       "      <td>14.5</td>\n",
       "      <td>14.25</td>\n",
       "      <td>0</td>\n",
       "      <td>0.3</td>\n",
       "      <td>0</td>\n",
       "      <td>0</td>\n",
       "      <td>14.25</td>\n",
       "      <td>5.0</td>\n",
       "      <td>1.5</td>\n",
       "      <td>0.5</td>\n",
       "      <td>0</td>\n",
       "      <td>0</td>\n",
       "    </tr>\n",
       "  </tbody>\n",
       "</table>\n",
       "<p>21598 rows × 13 columns</p>\n",
       "</div>"
      ],
      "text/plain": [
       "                 TimeStamp  VolMode PD1  VolMode PD2  VolMode PD3  \\\n",
       "299390 2018-01-15 20:00:00         14.5        14.25            0   \n",
       "299391 2018-01-15 20:00:00         14.5        14.25            0   \n",
       "299392 2018-01-15 20:00:00         14.5        14.25            0   \n",
       "299393 2018-01-15 20:00:00         14.5        14.25            0   \n",
       "299394 2018-01-15 20:00:00         14.5        14.25            0   \n",
       "...                    ...          ...          ...          ...   \n",
       "331781 2018-01-16 04:59:00         14.5        14.25            0   \n",
       "331782 2018-01-16 04:59:00         14.5        14.25            0   \n",
       "331783 2018-01-16 04:59:00         14.5        14.25            0   \n",
       "331784 2018-01-16 04:59:00         14.5        14.25            0   \n",
       "331785 2018-01-16 04:59:00         14.5        14.25            0   \n",
       "\n",
       "        VolMode PD4  VolMode PD5  VolMode PD7  RefAct PD1  RefAct PD2  \\\n",
       "299390          0.3            0            0       14.25         5.0   \n",
       "299391          0.3            0            0       14.25         5.0   \n",
       "299392          0.3            0            0       14.25         5.0   \n",
       "299393          0.3            0            0       14.25         5.0   \n",
       "299394          0.3            0            0       14.25         5.0   \n",
       "...             ...          ...          ...         ...         ...   \n",
       "331781          0.3            0            0       14.25         5.0   \n",
       "331782          0.3            0            0       14.25         5.0   \n",
       "331783          0.3            0            0       14.25         5.0   \n",
       "331784          0.3            0            0       14.25         5.0   \n",
       "331785          0.3            0            0       14.25         5.0   \n",
       "\n",
       "        RefAct PD3  RefAct PD4  RefAct PD5  RefAct PD7  \n",
       "299390         1.5         0.5           0           0  \n",
       "299391         1.5         0.5           0           0  \n",
       "299392         1.5         0.5           0           0  \n",
       "299393         1.5         0.5           0           0  \n",
       "299394         1.5         0.5           0           0  \n",
       "...            ...         ...         ...         ...  \n",
       "331781         1.5         0.5           0           0  \n",
       "331782         1.5         0.5           0           0  \n",
       "331783         1.5         0.5           0           0  \n",
       "331784         1.5         0.5           0           0  \n",
       "331785         1.5         0.5           0           0  \n",
       "\n",
       "[21598 rows x 13 columns]"
      ]
     },
     "execution_count": 33,
     "metadata": {},
     "output_type": "execute_result"
    }
   ],
   "source": [
    "temp = merged_data[merged_data[\"VolMode PD1\"] == 14.50]\n",
    "temp"
   ]
  }
 ],
 "metadata": {
  "kernelspec": {
   "display_name": "MSOM",
   "language": "python",
   "name": "python3"
  },
  "language_info": {
   "codemirror_mode": {
    "name": "ipython",
    "version": 3
   },
   "file_extension": ".py",
   "mimetype": "text/x-python",
   "name": "python",
   "nbconvert_exporter": "python",
   "pygments_lexer": "ipython3",
   "version": "3.8.19"
  }
 },
 "nbformat": 4,
 "nbformat_minor": 2
}
